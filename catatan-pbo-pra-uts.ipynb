{
 "cells": [
  {
   "cell_type": "markdown",
   "metadata": {},
   "source": [
    "# CLASS vs OBJECT\n",
    "<hr>\n",
    "<img src=\"https://phpenthusiast.com/theme/assets/images/articles/classes_and_objects.jpg\" width=\"50%\">\n",
    "\n",
    "## Definisi Class, Property, Method dan Object\n",
    "Class adalah kumpulan kode yang akan digunakan untuk membentuk objek. Di dalam class terdapat method dan property. Property adalah variabel yang dimiliki atau diperlukan oleh objek. Sedangkan method adalah fungsi yang dapat dijalankan oleh objek.\n",
    "\n",
    "<img src=\"https://raw.githubusercontent.com/zaelani23/catatan-pbo/946a0d4f49be2af1ac23008e4fe2dc9e8f0b180a/gambar/1.png\">\n",
    "\n",
    "## Contoh Penulisan Class\n",
    "Berikut adalah contoh penulisan class Kubus."
   ]
  },
  {
   "cell_type": "code",
   "execution_count": 5,
   "metadata": {},
   "outputs": [
    {
     "name": "stdout",
     "output_type": "stream",
     "text": [
      "Panjang sisi = 4\n",
      "Luas =  16\n",
      "Volume =  64\n",
      "Luas permukaan =  96\n"
     ]
    }
   ],
   "source": [
    "# Pembuatan class Kubus\n",
    "class Kubus:\n",
    "    def __init__(self,s):\n",
    "        self.sisi = s\n",
    "    \n",
    "    def tampilkansisi(self):\n",
    "        print(\"Panjang sisi =\",self.sisi)\n",
    "    \n",
    "    def tampilkanluas(self):\n",
    "        print(\"Luas = \",self.sisi**2)\n",
    "        \n",
    "    def tampilkanvolume(self):\n",
    "        print(\"Volume = \",self.sisi**3)\n",
    "    \n",
    "    def tampilkanluaspermukaan(self):\n",
    "        print(\"Luas permukaan = \",6*(self.sisi**2))\n",
    "\n",
    "#Instansiasi objek Kubus1 dari class Kubus dengan property sisi = 4\n",
    "Kubus1 = Kubus(4)\n",
    "\n",
    "#Menjalankan method dari objek Kubus1\n",
    "Kubus1.tampilkansisi()\n",
    "Kubus1.tampilkanluas()\n",
    "Kubus1.tampilkanvolume()\n",
    "Kubus1.tampilkanluaspermukaan()"
   ]
  },
  {
   "cell_type": "markdown",
   "metadata": {},
   "source": [
    "<p align=\"justify\">Dari kode diatas class yang kita buat adalah class dengan nama Kubus. Penulisan nama class disarankan untuk menggunakan huruf kapital di awal nama. Di dalam class Kubus terdapat properti yaitu sisi (s). Untuk menginisialisasikan property dalam Python menggunakan method constructor yaitu <b>__init__()</b>.Di class tersebut juga terdapat beberapa method lainnya, yaitu method tampilkansisi(), tampilkanluas(), tampilkanvolume(), dan tampilkanluaspermukaan(). Penulisan method sama dengan penulisan fungsi pada umumnya, yaitu dengan menggunakan <b>def</b> Namamethod(). Setiap method harus memiliki parameter self yang artinya method tersebut dimiliki dan terdaftar ke class tersebut untuk membedakan dari method atau fungsi yang ada di luar class. Cara mengakses method pada objek operator titik.</p>\n",
    "\n",
    "<p>Berikut beberapa contoh lainnya</p>"
   ]
  },
  {
   "cell_type": "code",
   "execution_count": 6,
   "metadata": {},
   "outputs": [
    {
     "name": "stdout",
     "output_type": "stream",
     "text": [
      "Adi , Admin dan 150000\n",
      "Umur: 19 tahun\n"
     ]
    }
   ],
   "source": [
    "#mengimpor package datetime untuk mengambil waktu sekarang\n",
    "from datetime import datetime\n",
    "\n",
    "class Pegawai:\n",
    "    def __init__(self,n,j,g,tgllhr):\n",
    "        #inisialisasi property\n",
    "        self.nama = n\n",
    "        self.jabatan = j\n",
    "        self.gaji = g\n",
    "        self.tgllhr = tgllhr\n",
    "    \n",
    "    def tampilkan(self):\n",
    "        #menampilkan nama, jabatan dan gaji\n",
    "        print(self.nama,\",\",self.jabatan,\"dan\",self.gaji*30)\n",
    "        \n",
    "    def tampilkanumur(self):\n",
    "        #mengambil waktu sekarang\n",
    "        sekarang = datetime.now()\n",
    "        \n",
    "        #mengambil tahun sekarang\n",
    "        tahun = sekarang.year\n",
    "        self.tahun = tahun\n",
    "        \n",
    "        #menampilkan umur dari tahun sekarang dikurangi tahun lahir\n",
    "        print(\"Umur:\",self.tahun-int(self.tgllhr[4:]),\"tahun\")\n",
    "\n",
    "#instansiasi objek\n",
    "p1 = Pegawai(\"Adi\",\"Admin\",5000,\"24012000\")\n",
    "\n",
    "#menjalankan method\n",
    "p1.tampilkan()\n",
    "p1.tampilkanumur()"
   ]
  },
  {
   "cell_type": "code",
   "execution_count": 9,
   "metadata": {},
   "outputs": [
    {
     "name": "stdout",
     "output_type": "stream",
     "text": [
      "Yusuf Sugiono , 180441100060 , 3 , layak bidikmisi\n"
     ]
    }
   ],
   "source": [
    "#membuat class Mahasiswa\n",
    "class Mahasiswa:\n",
    "    \n",
    "    def __init__(self, nama, nim, ipk):\n",
    "        #inisialisasi property\n",
    "        self.nama = nama\n",
    "        self.nim  = nim\n",
    "        self.ipk  = ipk\n",
    "        \n",
    "        \n",
    "    def tampilkan(self):\n",
    "        #jika ipk kurang dari atau sama dengan 2 maka tidak layak bidikmisi\n",
    "        #selain itu maka layak bidikmisi\n",
    "        if self.ipk <= 2:\n",
    "            ket = \"tidak layak bidikmisi\"\n",
    "        else:\n",
    "            ket = \"layak bidikmisi\"\n",
    "            \n",
    "        self.ket = ket\n",
    "        \n",
    "        #menampilkan nama, NIM, IPK, dan kelayakan bidikmisi\n",
    "        print(self.nama,\",\",self.nim,\",\",self.ipk,\",\",self.ket)\n",
    "        \n",
    "#instansiasi objek        \n",
    "mhs1 = Mahasiswa(\"Yusuf Sugiono\",\"180441100060\",3)\n",
    "\n",
    "#menjalankan method\n",
    "mhs1.tampilkan()"
   ]
  },
  {
   "cell_type": "markdown",
   "metadata": {},
   "source": [
    "<br>\n",
    "<br>\n",
    "\n",
    "# INHERITANCE (Pewarisan)\n",
    "<hr>\n",
    "\n",
    "## Definisi Inheritance\n",
    "\n",
    "Class dapat diturunkan atau diwariskan dari class lainnya. Class yang mewariskan disebut class induk atau <i>parent class</i> atau <i>base class</i> atau lebih sering disebut sebagai <i>superclass</i>. Sedangkan class yang diwarisi disebut class anak atau <i>subclass</i> atau <i>child class</i>.\n",
    "\n",
    "<img src=\"http://github.com/zaelani23/catatan-pbo/raw/946a0d4f49be2af1ac23008e4fe2dc9e8f0b180a/gambar/3.png\">\n",
    "\n",
    "Jika suatu objek dibuat menggunakan class yang mewarisi dari superclass, objek tersebut dapat menjalankan method dari class tersebut dan juga method dari superclass. Namun suatu objek yang dibuat dari superclass hanya dapat menjalankan method dari superclass tersebut dan tidak dapat menjalankan method dari class turunannya.\n",
    "\n",
    "Berikut contoh penggunaan inheritance"
   ]
  },
  {
   "cell_type": "code",
   "execution_count": 10,
   "metadata": {},
   "outputs": [
    {
     "name": "stdout",
     "output_type": "stream",
     "text": [
      "Name :  Brian\n",
      "\n",
      "Name :  Diana\n",
      "Programming Python\n"
     ]
    }
   ],
   "source": [
    "# membuat class User sebagai superclass\n",
    "class User:\n",
    "    \n",
    "    def __init__(self,name):\n",
    "        #inisialisasi property\n",
    "        self.name = name\n",
    "        \n",
    "    def printname(self):\n",
    "        #menampilkan nama\n",
    "        print (\"Name : \",self.name)\n",
    "\n",
    "# membuat subclass Programmer yang merupakan turunan dari class User\n",
    "class Programmer(User):\n",
    "    \n",
    "    def __init__(self,name):\n",
    "        #inisialisasi property\n",
    "        self.name = name\n",
    "        \n",
    "    def doPython(self):\n",
    "        #menampilkan teks Programming Python\n",
    "        print(\"Programming Python\")\n",
    "\n",
    "#instansiasi objek brian dari class User\n",
    "brian = User(\"Brian\")\n",
    "\n",
    "#menjalankan method printname() dari class User\n",
    "brian.printname()\n",
    "print()\n",
    "\n",
    "#instansiasi objek diana dari class Programmer\n",
    "diana = Programmer(\"Diana\")\n",
    "\n",
    "#menjalankan method dari class User (superclass)\n",
    "diana.printname() \n",
    "\n",
    "#menjalankan method dari class Programmer (subclass)\n",
    "diana.doPython()"
   ]
  },
  {
   "cell_type": "markdown",
   "metadata": {},
   "source": [
    "Dari contoh di atas, objek diana dapat menjalankan method dari class induk (class User) maupun classnya sendiri (class Programmer). Namun objek brian hanya dapat menjalankan method dari classnya sendiri (class User) dan tidak dapat menjalankan method dari class Programmer. Jika brian menjalankan method <b>doPython()</b> maka akan terjadi <b><i>error</i></b> seperti berikut."
   ]
  },
  {
   "cell_type": "code",
   "execution_count": 11,
   "metadata": {},
   "outputs": [
    {
     "ename": "AttributeError",
     "evalue": "'User' object has no attribute 'doPython'",
     "output_type": "error",
     "traceback": [
      "\u001b[1;31m---------------------------------------------------------------------------\u001b[0m",
      "\u001b[1;31mAttributeError\u001b[0m                            Traceback (most recent call last)",
      "\u001b[1;32m<ipython-input-11-8da7ec9a6243>\u001b[0m in \u001b[0;36m<module>\u001b[1;34m\u001b[0m\n\u001b[1;32m----> 1\u001b[1;33m \u001b[0mbrian\u001b[0m\u001b[1;33m.\u001b[0m\u001b[0mdoPython\u001b[0m\u001b[1;33m(\u001b[0m\u001b[1;33m)\u001b[0m\u001b[1;33m\u001b[0m\u001b[1;33m\u001b[0m\u001b[0m\n\u001b[0m",
      "\u001b[1;31mAttributeError\u001b[0m: 'User' object has no attribute 'doPython'"
     ]
    }
   ],
   "source": [
    "brian.doPython()"
   ]
  },
  {
   "cell_type": "markdown",
   "metadata": {},
   "source": [
    "## Jenis - Jenis Inheritance\n",
    "\n",
    "### 1. Default\n",
    "Class anak diwarisi semua method dan property dari class induk tanpa ada tambahan atau perubahan. Menggunakan statement <b>pass</b>\n",
    " \n",
    "### 2. Overriding\n",
    "Class anak diwarisi semua method dan property dari class induk dengan beberapa perubahan atau modifikasi. Untuk mengubah isi dari method maka dilakukan dengan menimpanya dengan method yang baru (overide). Memungkinkan class anak dapat memberikan implementasi yang berbeda untuk metode yang sudah didefinisikan dan / atau diimplementasikan di class induknya. Method overide di class anak harus memiliki nama dan property yang sama dengan yang ada di class induknya.\n",
    "<img src=\"https://www.geeksforgeeks.org/wp-content/uploads/overriding-in-java.png\">\n",
    "\n",
    "### 3. Super\n",
    "Class anak memiliki tambahan method ataupun property dari class induknya.\n",
    "Fungsi super() paling umum digunakan dalam method __init __ () karena di situlah kemungkinan besar perlu menambahkan beberapa keunikan ke class anak dan kemudian sisanya sama dengan inisialisasi dari class induk.\n",
    "\n",
    "### 4. Multiple\n",
    "Multiple inheritance adalah ketika sebuah class dapat mewarisi property dan method dari banyak class induk.\n",
    "\n",
    "\n",
    "Contoh:"
   ]
  },
  {
   "cell_type": "code",
   "execution_count": 7,
   "metadata": {},
   "outputs": [
    {
     "name": "stdout",
     "output_type": "stream",
     "text": [
      "Terry Fish\n",
      "Bone\n",
      "False\n",
      "The fish is swimming\n",
      "The fish can swim backwards\n",
      "\n",
      "Casey Fish\n",
      "The fish is swimming\n",
      "The Clownfish is coexisting with sea anemone.\n",
      "\n",
      "Baby Shark\n",
      "Cartilage\n",
      "True\n",
      "The fish is swimming\n",
      "The fish cannot swim backwards, but can sink backwards.\n",
      "\n",
      "Unknown Fish\n",
      "no bone\n",
      "true\n",
      "The fish is swimming\n",
      "The fish can swim backwards\n",
      "\n"
     ]
    }
   ],
   "source": [
    "# membuat class Fish sebagai class induk\n",
    "class Fish:\n",
    "    \n",
    "    def __init__(self, first_name, last_name=\"Fish\",skeleton=\"Bone\",eyelids=\"False\"):\n",
    "        self.first_name = first_name\n",
    "        self.last_name  = last_name\n",
    "        self.skeleton   = skeleton\n",
    "        self.eyelids    = eyelids\n",
    "        \n",
    "    def swim(self):\n",
    "        print(\"The fish is swimming\")\n",
    "        \n",
    "    def swim_backwards(self):\n",
    "        print(\"The fish can swim backwards\")\n",
    "\n",
    "# membuat class Trout, turunan dari class Fish\n",
    "class Trout(Fish):\n",
    "    \n",
    "    #Default inheritance, isinya sama dengan class induk\n",
    "    pass\n",
    "\n",
    "\n",
    "# membuat class Clownfish, turunan dari class Fish\n",
    "class Clownfish(Fish):\n",
    "    \n",
    "    #Super Inheritance, menambahkan method unik yang tidak ada di class induk\n",
    "    def live_with_anemone(self):\n",
    "        print(\"The Clownfish is coexisting with sea anemone.\")\n",
    "        \n",
    "\n",
    "# membuat class Shark, turunan dari class Fish\n",
    "class Shark(Fish):\n",
    "    \n",
    "    #Override Inheritance, mengubah property/method dari superclass\n",
    "    def __init__(self, first_name, last_name=\"Shark\",skeleton=\"Cartilage\",eyelids=\"True\"):\n",
    "        self.first_name = first_name\n",
    "        self.last_name  = last_name\n",
    "        self.skeleton   = skeleton\n",
    "        self.eyelids    = eyelids\n",
    "        \n",
    "    def swim_backwards(self):\n",
    "        print(\"The fish cannot swim backwards, but can sink backwards.\")\n",
    "        \n",
    "\n",
    "\n",
    "class Otherfish(Fish):\n",
    "    \n",
    "    #Super Inheritance, menambahkan property dari class induk\n",
    "    def __init__(self, water, first_name, last_name, skeleton, eyelids):\n",
    "        self.water = water\n",
    "        Fish.__init__(self, first_name, last_name,skeleton,eyelids)\n",
    "        #bisa juga menggunakan:\n",
    "        #super().__init__(first_name, last_name,skeleton,eyelids)\n",
    "\n",
    "terry = Trout(\"Terry\")\n",
    "print(terry.first_name+\" \"+terry.last_name)\n",
    "print(terry.skeleton)\n",
    "print(terry.eyelids)\n",
    "terry.swim()\n",
    "terry.swim_backwards()\n",
    "print()\n",
    "\n",
    "casey = Clownfish(\"Casey\")\n",
    "print(casey.first_name+\" \"+casey.last_name)\n",
    "casey.swim()\n",
    "casey.live_with_anemone()\n",
    "print()\n",
    "\n",
    "baby = Shark(\"Baby\")\n",
    "print(baby.first_name+\" \"+baby.last_name)\n",
    "print(baby.skeleton)\n",
    "print(baby.eyelids)\n",
    "baby.swim()\n",
    "baby.swim_backwards()\n",
    "print()\n",
    "\n",
    "daddy = Otherfish(\"Freshwater\",\"Unknown Fish\",\"fish\",\"no bone\",\"true\")\n",
    "print(daddy.first_name)\n",
    "print(daddy.skeleton)\n",
    "print(daddy.eyelids)\n",
    "daddy.swim()\n",
    "daddy.swim_backwards()\n",
    "print()"
   ]
  },
  {
   "cell_type": "markdown",
   "metadata": {},
   "source": [
    "Contoh latihan inheritance:"
   ]
  },
  {
   "cell_type": "code",
   "execution_count": 8,
   "metadata": {},
   "outputs": [
    {
     "name": "stdout",
     "output_type": "stream",
     "text": [
      "Coral lives in a community\n",
      "The anemone is protecting the clownfish\n"
     ]
    }
   ],
   "source": [
    "# Multiple Inheritance\n",
    "class Coral:\n",
    "    def community(self):\n",
    "        print(\"Coral lives in a community\")\n",
    "    \n",
    "class Anemone:\n",
    "    def protect_clownfish(self):\n",
    "        print(\"The anemone is protecting the clownfish\")\n",
    "\n",
    "class CoralReef(Coral, Anemone):\n",
    "    pass\n",
    "\n",
    "great_barrier=CoralReef()\n",
    "great_barrier.community()\n",
    "great_barrier.protect_clownfish()"
   ]
  },
  {
   "cell_type": "code",
   "execution_count": 9,
   "metadata": {},
   "outputs": [
    {
     "name": "stdout",
     "output_type": "stream",
     "text": [
      "Yusuf Sugiono\n"
     ]
    }
   ],
   "source": [
    "#Super Inheritance\n",
    "class User:\n",
    "    def __init__(self,first_name):\n",
    "        self.first_name = first_name\n",
    "\n",
    "class Programmer(User):\n",
    "    def __init__(self, first_name, last_name):\n",
    "        self.last_name = last_name\n",
    "        User.__init__(self,first_name)\n",
    "\n",
    "o = Programmer(\"Yusuf\",\"Sugiono\")\n",
    "print(o.first_name+\" \"+o.last_name)"
   ]
  },
  {
   "cell_type": "code",
   "execution_count": 11,
   "metadata": {},
   "outputs": [
    {
     "name": "stdout",
     "output_type": "stream",
     "text": [
      "Nama   : M. Zaelani\n",
      "\n",
      "Nama   : Viki Wahyudi\n",
      "NIP    : 123868203874\n",
      "\n",
      "Nama   : Yusuf Sugiono\n",
      "NIM    : 180441100060\n",
      "\n",
      "Nama   : M Nurul Asiqi\n",
      "NIP    : 743375876906\n",
      "\n",
      "Nama   : Sri Herawati\n",
      "NIP    : 19830828 200812 2 002\n",
      "NIDN   : 0028088301\n"
     ]
    }
   ],
   "source": [
    "class Orang:\n",
    "    def __init__(self, nama):\n",
    "        self.nama = nama\n",
    "        \n",
    "    def showName(self):\n",
    "        print(\"Nama   :\",self.nama)\n",
    "\n",
    "class Pegawai(Orang):\n",
    "    def __init__(self,nama,nip):\n",
    "        super().__init__(nama)\n",
    "        self.nip = nip\n",
    "        \n",
    "    def showNip(self):\n",
    "        print(\"NIP    :\",self.nip)\n",
    "        \n",
    "class Mahasiswa(Orang):\n",
    "    def __init__(self,nama,nim):\n",
    "        super().__init__(nama)\n",
    "        self.nim = nim\n",
    "        \n",
    "    def showNim(self):\n",
    "        print(\"NIM    :\",self.nim)\n",
    "        \n",
    "class Karyawan(Pegawai):\n",
    "    pass\n",
    "\n",
    "class Dosen(Pegawai):\n",
    "    def __init__(self,nama,nip,nidn):\n",
    "        super().__init__(nama,nip)\n",
    "        self.nidn = nidn\n",
    "\n",
    "    def showNidn(self):\n",
    "        print(\"NIDN   :\",self.nidn)\n",
    "\n",
    "#Objek dari class Orang     \n",
    "objek1 = Orang(\"M. Zaelani\")\n",
    "objek1.showName()\n",
    "print()\n",
    "\n",
    "#Objek dari class Pegawai\n",
    "objek2 = Pegawai(\"Viki Wahyudi\",\"123868203874\")\n",
    "objek2.showName()\n",
    "objek2.showNip()\n",
    "print()\n",
    "\n",
    "#Objek dari class Mahasiswa\n",
    "objek3 = Mahasiswa(\"Yusuf Sugiono\",\"180441100060\")\n",
    "objek3.showName()\n",
    "objek3.showNim()\n",
    "print()\n",
    "\n",
    "#Objek dari class Karyawan\n",
    "objek4 = Karyawan(\"M Nurul Asiqi\",\"743375876906\")\n",
    "objek4.showName()\n",
    "objek4.showNip()\n",
    "print()\n",
    "\n",
    "#Objek dari class Dosen\n",
    "objek5 = Dosen(\"Sri Herawati\",\"19830828 200812 2 002\",\"0028088301\")\n",
    "objek5.showName()\n",
    "objek5.showNip()\n",
    "objek5.showNidn()"
   ]
  },
  {
   "cell_type": "code",
   "execution_count": 10,
   "metadata": {},
   "outputs": [
    {
     "name": "stdout",
     "output_type": "stream",
     "text": [
      "IDENTITAS MULE\n",
      "Nama Mule    = Muleku\n",
      "Jenis rambut = Keriting\n",
      "Berat badan  = 50 \n",
      "\n",
      "IDENTITAS KUDA\n",
      "Nama Kuda    = Kudaku\n",
      "Jenis rambut = Lurus panjang \n",
      "\n",
      "IDENTITAS KELEDAI\n",
      "Nama Keledai = Keledaiku\n",
      "Berat badan  = 150 \n",
      "\n"
     ]
    }
   ],
   "source": [
    "class Kuda:\n",
    "    def __init__(self,nama,jenisrambut):\n",
    "        self.nama = nama\n",
    "        self.jenisrambut= jenisrambut\n",
    "    \n",
    "    def showInfo(self):\n",
    "        print(\"IDENTITAS KUDA\")\n",
    "        print(\"Nama Kuda    =\",self.nama)\n",
    "        print(\"Jenis rambut =\",self.jenisrambut,\"\\n\")\n",
    "\n",
    "class Keledai:\n",
    "    def __init__(self,nama,bb):\n",
    "        self.nama = nama\n",
    "        self.bb = bb\n",
    "    \n",
    "    def showInfo(self):\n",
    "        print(\"IDENTITAS KELEDAI\")\n",
    "        print(\"Nama Keledai =\",self.nama)\n",
    "        print(\"Berat badan  =\",self.bb,\"\\n\")\n",
    "        \n",
    "class Mule(Kuda,Keledai):\n",
    "    def __init__(self,nama,jenisrambut,bb):\n",
    "        Kuda.__init__(self,nama,jenisrambut)\n",
    "        Keledai.__init__(self,nama,bb)\n",
    "    \n",
    "    def showInfo(self):\n",
    "        print(\"IDENTITAS MULE\")\n",
    "        print(\"Nama Mule    =\",self.nama)\n",
    "        print(\"Jenis rambut =\",self.jenisrambut)\n",
    "        print(\"Berat badan  =\",self.bb,\"\\n\")\n",
    "\n",
    "objek1 = Mule(\"Muleku\",\"Keriting\",\"50\")\n",
    "objek1.showInfo()\n",
    "\n",
    "objek2 = Kuda(\"Kudaku\",\"Lurus panjang\")\n",
    "objek2.showInfo()\n",
    "\n",
    "objek1 = Keledai(\"Keledaiku\",\"150\")\n",
    "objek1.showInfo()"
   ]
  },
  {
   "cell_type": "code",
   "execution_count": 12,
   "metadata": {},
   "outputs": [
    {
     "name": "stdout",
     "output_type": "stream",
     "text": [
      "Nama            = Dengklek\n",
      "Kode Pegawai    = 18000441\n",
      "Kode Cabang     = 201\n",
      "\n",
      "Nama            = Ganesh\n",
      "Kode Pegawai    = 18000442\n",
      "Kode Cabang     = 202\n",
      "\n",
      "Nama            = Ndul\n",
      "Kode Pegawai    = 18000443\n",
      "Kode Cabang     = 203\n",
      "\n"
     ]
    }
   ],
   "source": [
    "class Orang:\n",
    "    def __init__(self,nama):\n",
    "        self.nama = nama\n",
    "    \n",
    "    def showInfo(self):\n",
    "        print(\"Nama            =\",self.nama)\n",
    "        print()\n",
    "\n",
    "class Karyawan(Orang):\n",
    "    def __init__(self,nama,kodepgw):\n",
    "        super().__init__(nama)\n",
    "        self.kodepgw = kodepgw\n",
    "    \n",
    "    def showInfo(self):\n",
    "        print(\"Nama            =\",self.nama)\n",
    "        print(\"Kode Pegawai    =\",self.kodepgw)\n",
    "        print()\n",
    "        \n",
    "class KaryawanCabang(Karyawan):\n",
    "    def __init__(self,nama,kodepgw,kodelok):\n",
    "        super().__init__(nama,kodepgw)\n",
    "        self.kodelok = kodelok\n",
    "    \n",
    "    def showInfo(self):\n",
    "        print(\"Nama            =\",self.nama)\n",
    "        print(\"Kode Pegawai    =\",self.kodepgw)\n",
    "        print(\"Kode Cabang     =\",self.kodelok)\n",
    "        print()\n",
    "        \n",
    "objek1 = KaryawanCabang(\"Dengklek\",\"18000441\",\"201\")\n",
    "objek1.showInfo()\n",
    "\n",
    "objek2 = KaryawanCabang(\"Ganesh\",\"18000442\",\"202\")\n",
    "objek2.showInfo()\n",
    "\n",
    "objek3 = KaryawanCabang(\"Ndul\",\"18000443\",\"203\")\n",
    "objek3.showInfo()\n"
   ]
  },
  {
   "cell_type": "code",
   "execution_count": 13,
   "metadata": {},
   "outputs": [
    {
     "name": "stdout",
     "output_type": "stream",
     "text": [
      "INFORMASI PENGAMBILAN MATAKULIAH\n",
      "\n",
      "NIM  : 180441100060\n",
      "Nama : Yusuf Sugiono\n",
      "\n",
      "Telah berhasil mengambil matakuliah ALGORITMA PEMROGRAMAN (SI104)\n",
      "\n",
      "Nilai yang didapat : B\n"
     ]
    }
   ],
   "source": [
    "class Mahasiswa:\n",
    "    def __init__(self,namaMhs,npm):\n",
    "        self.namaMhs = namaMhs\n",
    "        self.npm     = npm\n",
    "    \n",
    "    def showInfo(self):\n",
    "        print(\"Nama  :\",self.nama)\n",
    "        print(\"NPM   :\",self.npm)\n",
    "        \n",
    "class Matakuliah:\n",
    "    def __init__(self,kodeMk,namaMk):\n",
    "        self.kodeMk = kodeMk\n",
    "        self.namaMk = namaMk\n",
    "    \n",
    "    def showInfo(self):\n",
    "        print(\"Kode  :\",self.nama)\n",
    "        print(\"Matkul:\",self.npm)\n",
    "        \n",
    "class Pengambilanmk(Mahasiswa,Matakuliah):\n",
    "    def __init__(self,npm,namaMhs,kodeMk,namaMk,nilai):\n",
    "        Mahasiswa.__init__(self,namaMhs,npm)\n",
    "        Matakuliah.__init__(self,kodeMk,namaMk)\n",
    "        self.nilai = nilai\n",
    "        \n",
    "    def showInfo(self):\n",
    "        print(\"INFORMASI PENGAMBILAN MATAKULIAH\\n\")\n",
    "        print(\"NIM  :\",self.npm)\n",
    "        print(\"Nama :\",self.namaMhs)\n",
    "        print(\"\\nTelah berhasil mengambil matakuliah %s (%s)\"%(self.namaMk,self.kodeMk))\n",
    "        print(\"\\nNilai yang didapat :\",self.nilai)\n",
    "        \n",
    "objek1 = Pengambilanmk(\"180441100060\",\"Yusuf Sugiono\",\"SI104\",\"ALGORITMA PEMROGRAMAN\",\"B\")\n",
    "objek1.showInfo()"
   ]
  },
  {
   "cell_type": "markdown",
   "metadata": {},
   "source": [
    "<br>\n",
    "<br>\n",
    "\n",
    "# POLIMORFISME\n",
    "<hr>\n",
    "\n",
    "## Definisi Polimorfisme\n",
    "<img src=\"https://www.javatpoint.com/images/polymorphism.gif\">\n",
    "\n",
    "Polimorfisme <i>(polymorphism)</i> berasal dari dua kata bahasa latin, yaitu <b><i>poly</i></b> yang berarti banyak dan <b><i>morph</i></b> yang berarti bentuk. Sehingga polimorfisme berarti banyak bentuk.\n",
    "Dalam ilustrasi di atas, jika kita ingin meminta hewan bersuara, kita hanya memanggil sebuah fungsi/peritah panggil hewan, lalu beberapa objek hewan membunyikan suara yang berbeda-beda."
   ]
  },
  {
   "cell_type": "markdown",
   "metadata": {},
   "source": [
    "## Jenis-Jenis Polimorfisme\n",
    "\n",
    "### Polimorfisme dengan Menggunakan Function\n",
    "\n",
    "Polimorfisme dapat dilakukan dengan menggunakan function def, yaitu dengan menuliskan statemen def diluar class yang bertujuan untuk memanggil method dari beberapa objek.\n",
    "\n",
    "Contoh:"
   ]
  },
  {
   "cell_type": "code",
   "execution_count": 1,
   "metadata": {},
   "outputs": [
    {
     "name": "stdout",
     "output_type": "stream",
     "text": [
      "The Shark's skeleton is made of cartilage.\n",
      "The Clownfish's skeleton is made of bone.\n",
      "The Shark is swimming.\n",
      "The Clownfish is swimming.\n"
     ]
    }
   ],
   "source": [
    "class Shark:\n",
    "  def swim(self):\n",
    "    print(\"The Shark is swimming.\")\n",
    "  def swim_backwards(self):\n",
    "    print(\"The shark cannot swim backwards, but can sink backwards.\")\n",
    "  def skeleton(self):\n",
    "    print(\"The Shark's skeleton is made of cartilage.\")\n",
    "    \n",
    "class Clownfish:\n",
    "  def swim(self):\n",
    "    print(\"The Clownfish is swimming.\")\n",
    "  def swim_backwards(self):\n",
    "    print(\"The Clownfish can swim backwards.\")\n",
    "  def skeleton(self):\n",
    "    print(\"The Clownfish's skeleton is made of bone.\")\n",
    "    \n",
    "sammy = Shark()\n",
    "sammy.skeleton()\n",
    "\n",
    "casey = Clownfish()\n",
    "casey.skeleton()\n",
    "\n",
    "def in_the_pacific(fish):\n",
    "  fish.swim()\n",
    "  \n",
    "in_the_pacific(sammy)\n",
    "in_the_pacific(casey)"
   ]
  },
  {
   "cell_type": "markdown",
   "metadata": {},
   "source": [
    "Contoh lainnya yaitu:"
   ]
  },
  {
   "cell_type": "code",
   "execution_count": 2,
   "metadata": {},
   "outputs": [
    {
     "name": "stdout",
     "output_type": "stream",
     "text": [
      "Groarrr\n",
      "Woof woof!\n"
     ]
    }
   ],
   "source": [
    "class Bear:\n",
    "  def sound(self):\n",
    "    print (\"Groarrr\")\n",
    " \n",
    "class Dog:\n",
    "  def sound(self):\n",
    "    print (\"Woof woof!\")\n",
    " \n",
    "def makeSound(animal):\n",
    "  animal.sound()\n",
    " \n",
    "bearObj = Bear()\n",
    "dogObj = Dog()\n",
    " \n",
    "makeSound(bearObj)\n",
    "makeSound(dogObj)"
   ]
  },
  {
   "cell_type": "markdown",
   "metadata": {},
   "source": [
    "<br>\n",
    "\n",
    "### Polimorfisme dengan Menggunakan Method\n",
    "\n",
    "Polimorfisme ini tidak menggunakan fungsi diluar class, namun langsung memanggil dari method objeknya.\n",
    "\n",
    "Contoh:"
   ]
  },
  {
   "cell_type": "code",
   "execution_count": 4,
   "metadata": {},
   "outputs": [
    {
     "name": "stdout",
     "output_type": "stream",
     "text": [
      "The Clownfish is swimming.\n",
      "The Clownfish can swim backwards.\n",
      "The Clownfish's skeleton is made of bone.\n",
      "\n",
      "The Shark is swimming.\n",
      "The shark cannot swim backwards, but can sink backwards.\n",
      "The Shark's skeleton is made of cartilage.\n",
      "\n"
     ]
    }
   ],
   "source": [
    "for fish in (casey,sammy):\n",
    "    fish.swim()\n",
    "    fish.swim_backwards()\n",
    "    fish.skeleton()\n",
    "    print()"
   ]
  },
  {
   "cell_type": "markdown",
   "metadata": {},
   "source": [
    "Dua objek, sammy dari class Shark, dan casey dari class Clownfish. Dengan perulangan for, kita mengulangi objek-objek ini untuk memanggil method swim (), swim_backwards (), dan skeleton () pada masing-masingnya.\n",
    "\n",
    "Pemanggilan method yang terkait dengan class Shark terlebih dahulu, kemudian class Clownfish.\n",
    "\n",
    "Contoh lain:"
   ]
  },
  {
   "cell_type": "code",
   "execution_count": 6,
   "metadata": {},
   "outputs": [
    {
     "name": "stdout",
     "output_type": "stream",
     "text": [
      "Document1: Show pdf contents!\n",
      "Document2: Show pdf contents!\n",
      "Document3: Show word contents!\n"
     ]
    }
   ],
   "source": [
    "class Document:\n",
    "    def __init__(self, name):\n",
    "        self.name = name\n",
    " \n",
    "    def show(self):\n",
    "        raise NotImplementedError(\"Subclass must implement abstract method\")\n",
    " \n",
    "class Pdf(Document):\n",
    "    def show(self):\n",
    "        return 'Show pdf contents!'\n",
    " \n",
    "class Word(Document):\n",
    "    def show(self):\n",
    "        return 'Show word contents!'\n",
    " \n",
    "documents = [Pdf('Document1'),\n",
    "Pdf('Document2'),\n",
    "Word('Document3')]\n",
    " \n",
    "for document in documents:\n",
    "    print (document.name + ': ' + document.show())"
   ]
  },
  {
   "cell_type": "markdown",
   "metadata": {},
   "source": [
    "Pada kode di atas kita membuat abstract class yang disebut Dokumen. Class ini tidak memiliki implementasi tetapi mendefinisikan struktur (dalam bentuk fungsi/method) yang harus dimiliki semua class turunannya.\n",
    "Jika kita mendefinisikan method show() maka baik PdfDocument maupun WordDocument harus memiliki method show().\n",
    "\n",
    "Contoh lain:"
   ]
  },
  {
   "cell_type": "code",
   "execution_count": 7,
   "metadata": {},
   "outputs": [
    {
     "name": "stdout",
     "output_type": "stream",
     "text": [
      "Bananatruck: Truck driving slowly because heavily loaded.\n",
      "Orangetruck: Truck driving slowly because heavily loaded.\n",
      "Z3: Sportscar driving!\n"
     ]
    }
   ],
   "source": [
    "class Car:\n",
    "    def __init__(self, name):\n",
    "        self.name = name\n",
    " \n",
    "    def drive(self):\n",
    "        raise NotImplementedError(\"Subclass must implement abstract method\")\n",
    " \n",
    "    def stop(self):\n",
    "        raise NotImplementedError(\"Subclass must implement abstract method\")\n",
    " \n",
    "class Sportscar(Car):\n",
    "    def drive(self):\n",
    "        return 'Sportscar driving!'\n",
    " \n",
    "    def stop(self):\n",
    "        return 'Sportscar braking!'\n",
    " \n",
    "class Truck(Car):\n",
    "    def drive(self):\n",
    "        return 'Truck driving slowly because heavily loaded.'\n",
    " \n",
    "    def stop(self):\n",
    "        return 'Truck braking!'\n",
    " \n",
    "cars = [Truck('Bananatruck'),\n",
    "Truck('Orangetruck'),\n",
    "Sportscar('Z3')]\n",
    " \n",
    "for car in cars:\n",
    "    print (car.name + ': ' + car.drive())"
   ]
  },
  {
   "cell_type": "markdown",
   "metadata": {},
   "source": [
    "Dari kode diatas kita membuat abstract class Car yang memiliki abstract method drive() dan stop().\n",
    "Lalu kita membuat dua class, Sportscar dan Truk, keduanya adalah subclass dari Car.\n",
    "Kemudian kita dapat mengakses semua objek dan memanggil method tanpa memperhitungkan lebih lanjut apakah merupakan objek dari class Sportscar atau Truk. Seperti itulah konsep polimorfisme bekerja."
   ]
  },
  {
   "cell_type": "markdown",
   "metadata": {},
   "source": [
    "\n",
    "\n",
    "# OPERATOR DAN METHOD OVERLOADING\n",
    "<hr>\n",
    "\n",
    "## Method Overloading\n",
    "Dalam Python, Anda dapat mendefinisikan metode sedemikian rupa sehingga ada beberapa cara untuk memanggilnya. Diberikan metode atau fungsi tunggal, kita dapat menentukan jumlah parameter sendiri. Bergantung pada definisi fungsi, dapat dipanggil dengan parameter nol, satu, dua atau lebih. Ini dikenal sebagai metode overloading. Tidak semua bahasa pemrograman mendukung metode overloading, tetapi Python melakukannya.\n",
    "\n",
    "<img src=\"https://raw.githubusercontent.com/zaelani23/catatan-pbo/a6b91f30cda3162ff8307a811a572709fc792c6a/gambar/8.png\">\n",
    "\n",
    "Contoh:"
   ]
  },
  {
   "cell_type": "code",
   "execution_count": 1,
   "metadata": {},
   "outputs": [
    {
     "name": "stdout",
     "output_type": "stream",
     "text": [
      "9\n",
      "15\n",
      "62\n"
     ]
    }
   ],
   "source": [
    "def jumlahkan(*args):\n",
    "    y = 0\n",
    "    for x in args:\n",
    "        y = y + x\n",
    "    print(y)\n",
    "    \n",
    "jumlahkan(4,5)\n",
    "jumlahkan(4,5,6)\n",
    "jumlahkan(4,5,6,7,8,9,7,6,4,3,3)"
   ]
  },
  {
   "cell_type": "code",
   "execution_count": 3,
   "metadata": {},
   "outputs": [
    {
     "name": "stdout",
     "output_type": "stream",
     "text": [
      "Hello\n",
      "Hello Guido\n"
     ]
    }
   ],
   "source": [
    "class Human:\n",
    "    def sayHello(self,name=None):\n",
    "        if name is not None:\n",
    "            print(\"Hello\",name)\n",
    "        else:\n",
    "            print(\"Hello\")\n",
    "\n",
    "#Create instance\n",
    "obj = Human()\n",
    "\n",
    "#Call the method\n",
    "obj.sayHello()\n",
    "\n",
    "#Call the method with parameter\n",
    "obj.sayHello(\"Guido\")"
   ]
  },
  {
   "cell_type": "markdown",
   "metadata": {},
   "source": [
    "## Operator Overloading\n",
    "\n",
    "<img src=\"https://raw.githubusercontent.com/zaelani23/catatan-pbo/a6b91f30cda3162ff8307a811a572709fc792c6a/gambar/10.png\">\n",
    "\n",
    "Operator overloading memungkinkan untuk mendefinisikan ulang (redefine) makna dari suatu operator. Sebagai contoh yaitu operator '+' dapat digunakan untuk operasi penjumlahan untuk integer, namun juga dapat digunakan untuk operasi penggabungan untuk string.\n",
    "\n",
    "Contoh:\n"
   ]
  },
  {
   "cell_type": "code",
   "execution_count": 2,
   "metadata": {},
   "outputs": [
    {
     "name": "stdout",
     "output_type": "stream",
     "text": [
      "9\n",
      "HiGeeks\n"
     ]
    }
   ],
   "source": [
    "def add(datatype, *args):\n",
    "    if datatype == \"int\":\n",
    "        answer = 0\n",
    "    \n",
    "    if datatype == \"str\":\n",
    "        answer = \"\"\n",
    "        \n",
    "    for x in args:\n",
    "        answer = answer + x\n",
    "    print (answer)\n",
    "    \n",
    "\n",
    "#integer\n",
    "add(\"int\",4,5)\n",
    "\n",
    "#string\n",
    "add(\"str\",\"Hi\",\"Geeks\")"
   ]
  },
  {
   "cell_type": "markdown",
   "metadata": {},
   "source": [
    "Untuk mendefinisikan operator overloading dapat menggunakan magic method, berikut ini adalah beberapa magic method.</br>\n",
    "Untuk lebih lengkapnya <a href=\"https://www.python-course.eu/python3_magic_methods.php\" target=\"_blank\">KLIK DISINI</a>\n",
    "\n",
    "<img src=\"https://raw.githubusercontent.com/zaelani23/catatan-pbo/a6b91f30cda3162ff8307a811a572709fc792c6a/gambar/12.png\">\n",
    "\n",
    "Contoh:\n"
   ]
  },
  {
   "cell_type": "code",
   "execution_count": 4,
   "metadata": {},
   "outputs": [
    {
     "name": "stdout",
     "output_type": "stream",
     "text": [
      "Point object is at:(3,1)\n",
      "Point object is at:(1,5)\n"
     ]
    }
   ],
   "source": [
    "class Point:\n",
    "    def __init__(self, x=0 , y=0):\n",
    "        self.x = x\n",
    "        self.y = y\n",
    "    #def __str__(self):\n",
    "        #return \"({0},{1})\".format(self.x,self.y)\n",
    "    def __str__(self):\n",
    "        return \"Point object is at:(\"+str(self.x)+\",\"+str(self.y)+\")\"\n",
    "    def __sub__(self,other):\n",
    "        x = self.x - other.x\n",
    "        y = self.y - other.y\n",
    "        return Point(x,y)\n",
    "    def __add__(self,other):\n",
    "        x = self.x + other.x\n",
    "        y = self.y + other.y\n",
    "        return Point(x,y)\n",
    "    \n",
    "p1 = Point(2,3)\n",
    "p2 = Point(-1,2)\n",
    "print(p1-p2)\n",
    "print(p1+p2)"
   ]
  },
  {
   "cell_type": "code",
   "execution_count": 5,
   "metadata": {},
   "outputs": [
    {
     "name": "stdout",
     "output_type": "stream",
     "text": [
      "2/4\n",
      "6/8\n",
      "-2/8\n",
      "2/4\n",
      "1/8\n"
     ]
    }
   ],
   "source": [
    "class Fraction:\n",
    "    def __init__(self,top,bottom):\n",
    "        self.num = top\n",
    "        self.den = bottom\n",
    "        \n",
    "    def __str__(self):\n",
    "        return str(self.num)+\"/\"+str(self.den)\n",
    "\n",
    "\n",
    "    def __add__(self,otherfraction):\n",
    "        newnum = self.num * otherfraction.den + self.den * otherfraction.num\n",
    "        newden = self.den * otherfraction.den\n",
    "        return Fraction(newnum,newden)\n",
    "    \n",
    "    def __sub__(self,otherfraction):\n",
    "        newnum = self.num * otherfraction.den - self.den * otherfraction.num\n",
    "        newden = self.den * otherfraction.den\n",
    "        return Fraction(newnum,newden)\n",
    "    \n",
    "    def __truediv__(self,otherfraction):\n",
    "        newnum = self.num * otherfraction.den\n",
    "        newden = self.den * otherfraction.num\n",
    "        return Fraction(newnum,newden)\n",
    "\n",
    "    def __mul__(self, otherfraction):\n",
    "        newnum = self.num * otherfraction.num\n",
    "        newden = self.den * otherfraction.den\n",
    "        return Fraction(newnum,newden)\n",
    "    \n",
    "f=Fraction(2,4)\n",
    "print(f)\n",
    "\n",
    "f1 = Fraction(1,4)\n",
    "f2 = Fraction(1,2)\n",
    "print(f1+f2)\n",
    "print(f1-f2)\n",
    "print(f1/f2)\n",
    "print(f1*f2)"
   ]
  },
  {
   "cell_type": "markdown",
   "metadata": {},
   "source": [
    "\n",
    "\n",
    "\n",
    "# ENKAPSULASI\n",
    "<hr>\n",
    "\n",
    "## Definisi Enkapsulasi\n",
    "\n",
    "Konsep enkapsulasi di dalam Pemrograman Berorientasi Objek mengizinkan suatu kelas untuk mengatur visibilitas dari atribut-atribut atau method-methodnya. Konsep ini mengizinkan suatu data di dalam kelas bisa diakses atau tidak oleh objek-objek di luar kelas tersebut. Atribut <i>private</i> dan <i>public</i> merupakan istilah dalam OOP untuk mengimplementasikan konsep enkapsulasi. Saat suatu atribut atau method diatur menjadi private, maka hanya dapat diakses di kelasnya sendiri. Ketika suatu atribut atau method diatur menjadi public, maka akan dapat diakses di luar kelas tersebut.\n",
    "\n",
    "<img alt=\"Ilustrasi Enkapsulasi\" src=\"https://www.cpp.thiyagaraaj.com/cms/assets/cimages/encapsulation.png\">\n",
    "\n",
    "Untuk mengakses atribut atau method yang bersifat bersifat private maka harus diawali dengan underscore dan nama classnya.\n",
    "\n",
    "Contoh"
   ]
  },
  {
   "cell_type": "code",
   "execution_count": 6,
   "metadata": {},
   "outputs": [
    {
     "name": "stdout",
     "output_type": "stream",
     "text": [
      "ini public\n",
      "ini privat\n",
      "ini juga privat\n"
     ]
    }
   ],
   "source": [
    "class Enkapsulasi:\n",
    "    def __init__(self):\n",
    "        self.a = \"ini public\"\n",
    "        self._b = \"ini privat\"\n",
    "        self.__c = \"ini juga privat\"\n",
    "        \n",
    "obj = Enkapsulasi()\n",
    "print(obj.a)\n",
    "print(obj._b)\n",
    "print(obj._Enkapsulasi__c)\n",
    "#pemanggilan dengan obj.__c akan error"
   ]
  },
  {
   "cell_type": "code",
   "execution_count": 7,
   "metadata": {},
   "outputs": [
    {
     "name": "stdout",
     "output_type": "stream",
     "text": [
      "22\n",
      "23\n",
      "23\n"
     ]
    }
   ],
   "source": [
    "class Robot:\n",
    "    def __init__(self):\n",
    "        self.__version = 22\n",
    "        \n",
    "    def getVersion(self):\n",
    "        print(self.__version)\n",
    "        \n",
    "    def setVersion (self,version):\n",
    "        self.__version = version\n",
    "        \n",
    "obj = Robot()\n",
    "obj.getVersion()\n",
    "obj.setVersion(23)\n",
    "obj.getVersion()\n",
    "print(obj._Robot__version)\n",
    "#print(obj.__version) akan memunculkan error"
   ]
  },
  {
   "cell_type": "code",
   "execution_count": 8,
   "metadata": {},
   "outputs": [
    {
     "name": "stdout",
     "output_type": "stream",
     "text": [
      "This is a public method\n",
      "This is a private method\n",
      "This is another private method\n"
     ]
    }
   ],
   "source": [
    "class A(object):\n",
    "    #public method\n",
    "    def myPublicMethod(self):\n",
    "        return \"This is a public method\"\n",
    "    \n",
    "    #private method\n",
    "    def _myPrivateMethod(self):\n",
    "        return \"This is a private method\"\n",
    "    \n",
    "    #private method with double underscore\n",
    "    def __myAnotherPrivateMethod(self):\n",
    "        return \"This is another private method\"\n",
    "    \n",
    "    \n",
    "obj = A()\n",
    "# We can access the public method which is cool !!\n",
    "print(obj.myPublicMethod())\n",
    "\n",
    "# Note that we can also access the private method from outside\n",
    "print(obj._myPrivateMethod())\n",
    "\n",
    "# However you can still call the double underscore method\n",
    "# by appending the _class name before method name\n",
    "print(obj._A__myAnotherPrivateMethod())"
   ]
  },
  {
   "cell_type": "code",
   "execution_count": 11,
   "metadata": {},
   "outputs": [
    {
     "name": "stdout",
     "output_type": "stream",
     "text": [
      "driving.maxspeed200\n",
      "driving.maxspeed500\n",
      "driving.maxspeed700\n"
     ]
    }
   ],
   "source": [
    "class Car:\n",
    "    __maxspeed = 0\n",
    "    __name = \"\"\n",
    "    \n",
    "    def __init__(self):\n",
    "        self.__maxspeed = 200\n",
    "        self.__name = \"Supercar\"\n",
    "        \n",
    "    def drive(self):\n",
    "        print(\"driving.maxspeed\"+str(self.__maxspeed))\n",
    "        \n",
    "    def setMaxspeed(self,newmaxspeed):\n",
    "        self.__maxspeed = newmaxspeed\n",
    "        \n",
    "\n",
    "redcar = Car()\n",
    "redcar.drive()\n",
    "redcar.setMaxspeed(500)\n",
    "redcar.drive()\n",
    "redcar._Car__maxspeed = 700\n",
    "redcar.drive()"
   ]
  },
  {
   "cell_type": "markdown",
   "metadata": {},
   "source": [
    "Contoh method yang bersifat private:"
   ]
  },
  {
   "cell_type": "code",
   "execution_count": 10,
   "metadata": {},
   "outputs": [
    {
     "name": "stdout",
     "output_type": "stream",
     "text": [
      "updating software\n",
      "driving\n",
      "updating software\n"
     ]
    }
   ],
   "source": [
    "class Car:\n",
    "\n",
    "    def __init__(self):\n",
    "        self.__updateSoftware()\n",
    "\n",
    "    def drive(self):\n",
    "        print('driving')\n",
    "\n",
    "    def __updateSoftware(self):\n",
    "        print('updating software')\n",
    "\n",
    "redcar = Car()\n",
    "redcar.drive()\n",
    "redcar._Car__updateSoftware()"
   ]
  }
 ],
 "metadata": {
  "kernelspec": {
   "display_name": "Python 3",
   "language": "python",
   "name": "python3"
  },
  "language_info": {
   "codemirror_mode": {
    "name": "ipython",
    "version": 3
   },
   "file_extension": ".py",
   "mimetype": "text/x-python",
   "name": "python",
   "nbconvert_exporter": "python",
   "pygments_lexer": "ipython3",
   "version": "3.7.1"
  }
 },
 "nbformat": 4,
 "nbformat_minor": 2
}
